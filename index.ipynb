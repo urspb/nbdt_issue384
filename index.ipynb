{
 "cells": [
  {
   "cell_type": "code",
   "execution_count": null,
   "metadata": {},
   "outputs": [],
   "source": [
    "#hide\n",
    "from nbdt381.core import *"
   ]
  },
  {
   "cell_type": "markdown",
   "metadata": {},
   "source": [
    "# nbdt381\n",
    "\n",
    "> Test case for nbdev issue #381"
   ]
  },
  {
   "cell_type": "markdown",
   "metadata": {},
   "source": [
    "## Logbook nbdt_issue381\n",
    "\n",
    "This test case was assembled on a MacOS system (OS version 10.14.6).\n",
    "\n",
    "To reproduce my findings, you might want follow the steps below:"
   ]
  },
  {
   "cell_type": "markdown",
   "metadata": {},
   "source": [
    "    pyenv virtualenv 3.7.9 iss381\n",
    "\n",
    "    git clone https://github.com/urspb/nbdt_issue381.git\n",
    "    cd nbdt_issue381\n",
    "    pyenv local iss381\n",
    "    pip install --upgrade pip\n",
    "    pip install nbdev\n",
    "    pip install matplotlib\n",
    "    \n",
    "    # lookup version of nbdev\n",
    "    pip list --local | grep nbdev\n",
    "\n",
    "    # ToDo: edit settings.ini\n",
    "    nbdev_install_git_hooks"
   ]
  },
  {
   "cell_type": "markdown",
   "metadata": {},
   "source": [
    "## Test #381\n",
    "\n",
    "For the test of `nbdev_nb2md` please look into notebook `00_core`."
   ]
  },
  {
   "cell_type": "code",
   "execution_count": null,
   "metadata": {},
   "outputs": [],
   "source": []
  }
 ],
 "metadata": {
  "kernelspec": {
   "display_name": "Python 3",
   "language": "python",
   "name": "python3"
  }
 },
 "nbformat": 4,
 "nbformat_minor": 2
}
