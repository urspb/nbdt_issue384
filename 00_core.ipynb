{
 "cells": [
  {
   "cell_type": "code",
   "execution_count": null,
   "metadata": {},
   "outputs": [],
   "source": [
    "# default_exp core"
   ]
  },
  {
   "cell_type": "markdown",
   "metadata": {},
   "source": [
    "# test381\n",
    "\n",
    "> This is a test case for nbdev issue #381"
   ]
  },
  {
   "cell_type": "code",
   "execution_count": null,
   "metadata": {},
   "outputs": [],
   "source": [
    "#hide\n",
    "from nbdev.showdoc import *"
   ]
  },
  {
   "cell_type": "markdown",
   "metadata": {},
   "source": [
    "Calling `nbdev_nb2md` should produce a Markdown file but returns an error."
   ]
  },
  {
   "cell_type": "markdown",
   "metadata": {},
   "source": [
    "##  Test of nbdev_nb2md inside this notebook\n",
    "Here we use a very simple file with just one line of python code."
   ]
  },
  {
   "cell_type": "code",
   "execution_count": null,
   "metadata": {},
   "outputs": [
    {
     "name": "stderr",
     "output_type": "stream",
     "text": [
      "usage: ipykernel_launcher.py [-h] [--dest DEST] [--use_img USE_IMG] [--replace REPLACE] path_nb\n",
      "ipykernel_launcher.py: error: unrecognized arguments: -f\n"
     ]
    },
    {
     "ename": "SystemExit",
     "evalue": "2",
     "output_type": "error",
     "traceback": [
      "An exception has occurred, use %tb to see the full traceback.\n",
      "\u001b[0;31mSystemExit\u001b[0m\u001b[0;31m:\u001b[0m 2\n"
     ]
    },
    {
     "name": "stderr",
     "output_type": "stream",
     "text": [
      "/Users/uli/.pyenv/versions/3.7.9/envs/iss384/lib/python3.7/site-packages/IPython/core/interactiveshell.py:3426: UserWarning: To exit: use 'exit', 'quit', or Ctrl-D.\n",
      "  warn(\"To exit: use 'exit', 'quit', or Ctrl-D.\", stacklevel=1)\n"
     ]
    }
   ],
   "source": [
    "from nbdev.export2html import *\n",
    "nbdev_nb2md('10_Hello.ipynb')"
   ]
  },
  {
   "cell_type": "code",
   "execution_count": null,
   "metadata": {},
   "outputs": [],
   "source": [
    "# %tb"
   ]
  },
  {
   "cell_type": "markdown",
   "metadata": {},
   "source": [
    "## Test of nbdev_nb2md on Command Line\n",
    "### 1. 10_Hello.ipynb\n",
    "Here we use a very simple file with just one line of python code."
   ]
  },
  {
   "cell_type": "code",
   "execution_count": null,
   "metadata": {},
   "outputs": [],
   "source": [
    "!nbdev_nb2md 10_Hello.ipynb"
   ]
  },
  {
   "cell_type": "code",
   "execution_count": null,
   "metadata": {},
   "outputs": [
    {
     "name": "stdout",
     "output_type": "stream",
     "text": [
      "-rw-r--r--  1 uli  staff  870 25 Jan 20:42 10_Hello.ipynb\r\n",
      "-rw-r--r--  1 uli  staff   64 30 Jan 20:02 10_Hello.md\r\n"
     ]
    }
   ],
   "source": [
    "!ls -l 10_Hello.*"
   ]
  },
  {
   "cell_type": "markdown",
   "metadata": {},
   "source": [
    "### 2. 20_HelloPicture.ipynb\n",
    "Here we use a file with some code, a picture and a plot. We also make use the command line parameters."
   ]
  },
  {
   "cell_type": "code",
   "execution_count": null,
   "metadata": {},
   "outputs": [],
   "source": [
    "!nbdev_nb2md 20_HelloPicture.ipynb"
   ]
  },
  {
   "cell_type": "code",
   "execution_count": null,
   "metadata": {},
   "outputs": [
    {
     "name": "stdout",
     "output_type": "stream",
     "text": [
      "-rw-r--r--  1 uli  staff  30503 30 Jan 20:24 20_HelloPicture.ipynb\r\n",
      "-rw-r--r--  1 uli  staff    780 30 Jan 21:39 20_HelloPicture.md\r\n",
      "\r\n",
      "20_HelloPicture_files:\r\n",
      "total 48\r\n",
      "-rw-r--r--  1 uli  staff  20802 30 Jan 21:39 output_6_0.png\r\n",
      "-rw-r--r--  1 uli  staff  19890 30 Jan 21:37 test.png\r\n",
      "zsh:1: no matches found: *.jpg\r\n"
     ]
    }
   ],
   "source": [
    "!ls -l 20_*; ls -l *.png; ls -l *.jpg"
   ]
  },
  {
   "cell_type": "markdown",
   "metadata": {},
   "source": [
    "### 3. Usage of cmd line parameter --dest"
   ]
  },
  {
   "cell_type": "code",
   "execution_count": null,
   "metadata": {},
   "outputs": [
    {
     "name": "stdout",
     "output_type": "stream",
     "text": [
      "Traceback (most recent call last):\r\n",
      "  File \"/Users/uli/.pyenv/versions/iss384/bin/nbdev_nb2md\", line 8, in <module>\r\n",
      "    sys.exit(nbdev_nb2md())\r\n",
      "  File \"/Users/uli/.pyenv/versions/3.7.9/envs/iss384/lib/python3.7/site-packages/fastcore/script.py\", line 105, in _f\r\n",
      "    tfunc(**merge(args, args_from_prog(func, xtra)))\r\n",
      "  File \"/Users/uli/.pyenv/versions/3.7.9/envs/iss384/lib/python3.7/site-packages/nbdev/export2html.py\", line 676, in nbdev_nb2md\r\n",
      "    convert_md(fname, dest, jekyll=jekyll, img_path=img_path)\r\n",
      "  File \"/Users/uli/.pyenv/versions/3.7.9/envs/iss384/lib/python3.7/site-packages/nbdev/export2html.py\", line 585, in convert_md\r\n",
      "    with open(Path(dest_path)/img_path/n, 'wb') as f: f.write(o)\r\n",
      "FileNotFoundError: [Errno 2] No such file or directory: 'mdFiles/20_HelloPicture_files/output_6_0.png'\r\n"
     ]
    }
   ],
   "source": [
    "!nbdev_nb2md --dest mdFiles 30_HelloPicTwo.ipynb"
   ]
  },
  {
   "cell_type": "code",
   "execution_count": null,
   "metadata": {},
   "outputs": [
    {
     "name": "stdout",
     "output_type": "stream",
     "text": [
      "total 584\r\n",
      "-rw-r--r--  1 uli  staff     786 30 Jan 20:25 20_HelloPicture.md\r\n",
      "-rw-r--r--  1 uli  staff  141368 30 Jan 19:42 att_00000.jpeg\r\n",
      "-rw-r--r--  1 uli  staff    3055 30 Jan 19:42 att_00000.png\r\n",
      "-rw-r--r--  1 uli  staff  141368 30 Jan 20:24 att_00001.jpeg\r\n",
      "-rw-r--r--  1 uli  staff    3055 30 Jan 20:24 att_00001.png\r\n"
     ]
    }
   ],
   "source": [
    "!ls -l mdFiles"
   ]
  },
  {
   "cell_type": "markdown",
   "metadata": {},
   "source": [
    "### 4. Usage of cmd line parameter --dest and --img_path produces an Error"
   ]
  },
  {
   "cell_type": "code",
   "execution_count": null,
   "metadata": {},
   "outputs": [
    {
     "name": "stdout",
     "output_type": "stream",
     "text": [
      "usage: nbdev_nb2md [-h] [--dest DEST] [--img_path IMG_PATH] [--jekyll JEKYLL]\r\n",
      "                   fname\r\n",
      "\r\n",
      "Convert the notebook in `fname` to a markdown file\r\n",
      "\r\n",
      "positional arguments:\r\n",
      "  fname                A notebook file name to convert\r\n",
      "\r\n",
      "optional arguments:\r\n",
      "  -h, --help           show this help message and exit\r\n",
      "  --dest DEST          The destination folder (default: .)\r\n",
      "  --img_path IMG_PATH  Folder to export images to (default: )\r\n",
      "  --jekyll JEKYLL      To use jekyll metadata for your markdown file or not\r\n",
      "                       (default: False)\r\n"
     ]
    }
   ],
   "source": [
    "!nbdev_nb2md -h"
   ]
  },
  {
   "cell_type": "code",
   "execution_count": null,
   "metadata": {},
   "outputs": [
    {
     "name": "stdout",
     "output_type": "stream",
     "text": [
      "usage: nbdev_nb2md [-h] [--dest DEST] [--use_img USE_IMG] [--replace REPLACE]\r\n",
      "                   path_nb\r\n",
      "nbdev_nb2md: error: unrecognized arguments: --img_path 20_HelloPicture.ipynb\r\n"
     ]
    }
   ],
   "source": [
    "!nbdev_nb2md --dest mdFiles --img_path imgs 30_HelloPicTwo.ipynb"
   ]
  },
  {
   "cell_type": "markdown",
   "metadata": {},
   "source": [
    "**This error message contradics the help message!** \\\n",
    "Where do the arguments `[--use_img USE_IMG]` and `[--replace REPLACE]` come from?"
   ]
  },
  {
   "cell_type": "markdown",
   "metadata": {},
   "source": [
    "### 5. Some other things happen when using cmd line parameters\n",
    "Two more errors when using command line parameters and one unexpected behaviour which is not an error."
   ]
  },
  {
   "cell_type": "code",
   "execution_count": null,
   "metadata": {},
   "outputs": [
    {
     "name": "stdout",
     "output_type": "stream",
     "text": [
      "usage: nbdev_nb2md [-h] [--dest DEST] [--use_img USE_IMG] [--replace REPLACE]\r\n",
      "                   path_nb\r\n",
      "nbdev_nb2md: error: unrecognized arguments: --img_path 20_HelloPicture.ipynb\r\n"
     ]
    }
   ],
   "source": [
    "!nbdev_nb2md --img_path imgs 30_HelloPicTwo.ipynb"
   ]
  },
  {
   "cell_type": "code",
   "execution_count": null,
   "metadata": {},
   "outputs": [
    {
     "name": "stdout",
     "output_type": "stream",
     "text": [
      "usage: nbdev_nb2md [-h] [--dest DEST] [--use_img USE_IMG] [--replace REPLACE]\r\n",
      "                   path_nb\r\n",
      "nbdev_nb2md: error: unrecognized arguments: --jekyll 20_HelloPicture.ipynb\r\n"
     ]
    }
   ],
   "source": [
    "!nbdev_nb2md --dest mdFiles --jekyll True 30_HelloPicTwo.ipynb"
   ]
  },
  {
   "cell_type": "markdown",
   "metadata": {},
   "source": [
    "Now hand over a value to `--jekyll` that is not allowed:"
   ]
  },
  {
   "cell_type": "code",
   "execution_count": null,
   "metadata": {},
   "outputs": [
    {
     "name": "stdout",
     "output_type": "stream",
     "text": [
      "usage: nbdev_nb2md [-h] [--dest DEST] [--img_path IMG_PATH] [--jekyll JEKYLL]\r\n",
      "                   fname\r\n",
      "nbdev_nb2md: error: argument --jekyll: invalid bool_arg value: '42'\r\n"
     ]
    }
   ],
   "source": [
    "!nbdev_nb2md --dest mdFiles --jekyll 42 30_HelloPicTwo.ipynb"
   ]
  },
  {
   "cell_type": "markdown",
   "metadata": {},
   "source": [
    "That's a little bit strange, isn't it? This usage message tells us the correct argument list."
   ]
  },
  {
   "cell_type": "markdown",
   "metadata": {},
   "source": [
    "## Analysis of the generated Markdown Files\n",
    "If you look at the generated result of the Markdown file (below) the following things can be regognized"
   ]
  },
  {
   "cell_type": "markdown",
   "metadata": {},
   "source": [
    "\n",
    "    # HelloPicture\n",
    "\n",
    "\n",
    "\n",
    "    ## Code\n",
    "\n",
    "    ```python\n",
    "    print('Hi!')\n",
    "    ```\n",
    "\n",
    "        Hi!\n",
    "\n",
    "\n",
    "    ## Picture\n",
    "\n",
    "    This is a PNG:\n",
    "    ![company_logo.png](../attachment:company_logo.png)\n",
    "\n",
    "    And this a JPG:\n",
    "    ![Delphin.jpg](../attachment:Delphin.jpg)\n",
    "\n",
    "    ## a Plot\n",
    "\n",
    "    ```python\n",
    "    import matplotlib as mpl\n",
    "\n",
    "    import numpy as np\n",
    "    import matplotlib.pyplot as plt\n",
    "\n",
    "    x = np.linspace(0, 10, 500)\n",
    "    y = np.sin(x)\n",
    "\n",
    "    fig, ax = plt.subplots()\n",
    "\n",
    "    # Using set_dashes() to modify dashing of an existing line\n",
    "    line1, = ax.plot(x, y, label='Using set_dashes()')\n",
    "    line1.set_dashes([2, 2, 10, 2])  # 2pt line, 2pt break, 10pt line, 2pt break\n",
    "\n",
    "    # Using plot(..., dashes=...) to set the dashing when creating a line\n",
    "    line2, = ax.plot(x, y - 0.2, dashes=[6, 2], label='Using the dashes parameter')\n",
    "\n",
    "    ax.legend()\n",
    "    plt.show()\n",
    "    ```\n",
    "\n",
    "\n",
    "    ![png](20_HelloPicture_files/output_6_0.png)\n",
    "\n",
    "\n"
   ]
  },
  {
   "cell_type": "markdown",
   "metadata": {},
   "source": [
    "- The .png and .jpg file can not be found in the file system\n",
    "- the python code of the "
   ]
  }
 ],
 "metadata": {
  "kernelspec": {
   "display_name": "Python 3",
   "language": "python",
   "name": "python3"
  }
 },
 "nbformat": 4,
 "nbformat_minor": 2
}
