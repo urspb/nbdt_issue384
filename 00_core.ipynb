{
 "cells": [
  {
   "cell_type": "code",
   "execution_count": null,
   "metadata": {},
   "outputs": [],
   "source": [
    "# default_exp core"
   ]
  },
  {
   "cell_type": "markdown",
   "metadata": {},
   "source": [
    "# test381\n",
    "\n",
    "> This is a test case for nbdev issue #381\n",
    "\n",
    "Starting point was, that `nbdev_nb2md()` produced an error when called from within a notebook. When `nbdev_nb2md` is called from the command line with just the notebook file name as an argument, it produces a Markdown file. \n",
    "\n",
    "- As shown in *2. 20_HelloPicture.ipynb* there is an issue with images in the generated Markdown file. \n",
    "- When the argument `--dest mdFiles` is used, there is an error thrown\n",
    "- The usage of the arguments `--img_path imgs` and `--jekyll` produce errors messages with confusing usage hints"
   ]
  },
  {
   "cell_type": "code",
   "execution_count": null,
   "metadata": {},
   "outputs": [],
   "source": [
    "#hide\n",
    "from nbdev.showdoc import *"
   ]
  },
  {
   "cell_type": "markdown",
   "metadata": {},
   "source": [
    "Calling `nbdev_nb2md` should produce a Markdown file but returns an error."
   ]
  },
  {
   "cell_type": "markdown",
   "metadata": {},
   "source": [
    "##  Test of nbdev_nb2md inside this notebook\n",
    "Here we use a very simple file with just one line of python code."
   ]
  },
  {
   "cell_type": "code",
   "execution_count": null,
   "metadata": {},
   "outputs": [
    {
     "name": "stderr",
     "output_type": "stream",
     "text": [
      "usage: ipykernel_launcher.py [-h] [--dest DEST] [--use_img USE_IMG] [--replace REPLACE] path_nb\n",
      "ipykernel_launcher.py: error: unrecognized arguments: -f\n"
     ]
    },
    {
     "ename": "SystemExit",
     "evalue": "2",
     "output_type": "error",
     "traceback": [
      "An exception has occurred, use %tb to see the full traceback.\n",
      "\u001b[0;31mSystemExit\u001b[0m\u001b[0;31m:\u001b[0m 2\n"
     ]
    }
   ],
   "source": [
    "from nbdev.export2html import *\n",
    "nbdev_nb2md('10_Hello.ipynb')"
   ]
  },
  {
   "cell_type": "code",
   "execution_count": null,
   "metadata": {},
   "outputs": [],
   "source": [
    "# %tb"
   ]
  },
  {
   "cell_type": "markdown",
   "metadata": {},
   "source": [
    "## Test of nbdev_nb2md on Command Line\n",
    "### 1. 10_Hello.ipynb\n",
    "Here we use a very simple notebook file with just one line of python code."
   ]
  },
  {
   "cell_type": "code",
   "execution_count": null,
   "metadata": {},
   "outputs": [],
   "source": [
    "!nbdev_nb2md 10_Hello.ipynb"
   ]
  },
  {
   "cell_type": "code",
   "execution_count": null,
   "metadata": {},
   "outputs": [
    {
     "name": "stdout",
     "output_type": "stream",
     "text": [
      "-rw-r--r--  1 uli  staff  870 25 Jan 20:42 10_Hello.ipynb\r\n",
      "-rw-r--r--  1 uli  staff   64 30 Jan 23:00 10_Hello.md\r\n",
      "\r\n",
      "10_Hello_files:\r\n"
     ]
    }
   ],
   "source": [
    "!ls -l 10_Hello*"
   ]
  },
  {
   "cell_type": "markdown",
   "metadata": {},
   "source": [
    "### 2. 20_HelloPicture.ipynb\n",
    "Here we use a file with some code, a picture and a plot."
   ]
  },
  {
   "cell_type": "code",
   "execution_count": null,
   "metadata": {},
   "outputs": [],
   "source": [
    "!nbdev_nb2md 20_HelloPicture.ipynb"
   ]
  },
  {
   "cell_type": "code",
   "execution_count": null,
   "metadata": {},
   "outputs": [
    {
     "name": "stdout",
     "output_type": "stream",
     "text": [
      "-rw-r--r--  1 uli  staff  30503 30 Jan 23:00 20_HelloPicture.ipynb\r\n",
      "-rw-r--r--  1 uli  staff    780 30 Jan 23:00 20_HelloPicture.md\r\n",
      "\r\n",
      "20_HelloPicture_files:\r\n",
      "total 336\r\n",
      "-rw-r--r--  1 uli  staff  141368 30 Jan 23:00 att_00000.jpeg\r\n",
      "-rw-r--r--  1 uli  staff    3055 30 Jan 23:00 att_00000.png\r\n",
      "-rw-r--r--  1 uli  staff   20802 30 Jan 23:00 output_6_0.png\r\n",
      "zsh:1: no matches found: *.png\r\n",
      "zsh:1: no matches found: *.jpeg\r\n"
     ]
    }
   ],
   "source": [
    "!ls -l 20_*; ls -l *.png; ls -l *.jpeg"
   ]
  },
  {
   "cell_type": "markdown",
   "metadata": {},
   "source": [
    "The procuded Markdown file looks like this:"
   ]
  },
  {
   "cell_type": "markdown",
   "metadata": {},
   "source": [
    "# HelloPicture\n",
    "\n",
    "\n",
    "\n",
    "## Code\n",
    "\n",
    "```python\n",
    "print('Hi!')\n",
    "```\n",
    "\n",
    "    Hi!\n",
    "\n",
    "\n",
    "## Picture\n",
    "\n",
    "This is a PNG:\n",
    "![company_logo.png](attachment:company_logo.png)\n",
    "\n",
    "And this a JPG:\n",
    "![Delphin.jpg](attachment:Delphin.jpg)\n",
    "\n",
    "## a Plot\n",
    "\n",
    "```python\n",
    "import matplotlib as mpl\n",
    "\n",
    "import numpy as np\n",
    "import matplotlib.pyplot as plt\n",
    "\n",
    "x = np.linspace(0, 10, 500)\n",
    "y = np.sin(x)\n",
    "\n",
    "fig, ax = plt.subplots()\n",
    "\n",
    "# Using set_dashes() to modify dashing of an existing line\n",
    "line1, = ax.plot(x, y, label='Using set_dashes()')\n",
    "line1.set_dashes([2, 2, 10, 2])  # 2pt line, 2pt break, 10pt line, 2pt break\n",
    "\n",
    "# Using plot(..., dashes=...) to set the dashing when creating a line\n",
    "line2, = ax.plot(x, y - 0.2, dashes=[6, 2], label='Using the dashes parameter')\n",
    "\n",
    "ax.legend()\n",
    "plt.show()\n",
    "```\n",
    "\n",
    "![png](20_HelloPicture_files/output_6_0.png)"
   ]
  },
  {
   "cell_type": "markdown",
   "metadata": {},
   "source": [
    "Headings, text and source code are generated properly. Also the picture of the plot is as expected.\n",
    "As you can see, the two pictures in the upper half are not shown.\\\n",
    "The Markdown code for those Pictures is:\n",
    "    \n",
    "    ## Picture\n",
    "\n",
    "    This is a PNG:\n",
    "    ![company_logo.png](attachment:company_logo.png)\n",
    "\n",
    "    And this a JPG:\n",
    "    ![Delphin.jpg](attachment:Delphin.jpg)\n",
    "\n",
    "The image tags are just as they were in the jupyter notebook. Whereas the two files are copied into `20_HelloPicture_files/att_00000.png` and `20_HelloPicture_files/att_00000.jpeg`"
   ]
  },
  {
   "cell_type": "markdown",
   "metadata": {},
   "source": [
    "### 3. Usage of cmd line parameter --dest\n",
    "\n",
    "Now, let's make use the command line parameters."
   ]
  },
  {
   "cell_type": "code",
   "execution_count": null,
   "metadata": {},
   "outputs": [
    {
     "name": "stdout",
     "output_type": "stream",
     "text": [
      "usage: nbdev_nb2md [-h] [--dest DEST] [--img_path IMG_PATH] [--jekyll JEKYLL]\r\n",
      "                   fname\r\n",
      "\r\n",
      "Convert the notebook in `fname` to a markdown file\r\n",
      "\r\n",
      "positional arguments:\r\n",
      "  fname                A notebook file name to convert\r\n",
      "\r\n",
      "optional arguments:\r\n",
      "  -h, --help           show this help message and exit\r\n",
      "  --dest DEST          The destination folder (default: .)\r\n",
      "  --img_path IMG_PATH  Folder to export images to (default: )\r\n",
      "  --jekyll JEKYLL      To use jekyll metadata for your markdown file or not\r\n",
      "                       (default: False)\r\n"
     ]
    }
   ],
   "source": [
    "!nbdev_nb2md -h"
   ]
  },
  {
   "cell_type": "code",
   "execution_count": null,
   "metadata": {},
   "outputs": [
    {
     "name": "stdout",
     "output_type": "stream",
     "text": [
      "Traceback (most recent call last):\r\n",
      "  File \"/Users/uli/.pyenv/versions/iss384/bin/nbdev_nb2md\", line 8, in <module>\r\n",
      "    sys.exit(nbdev_nb2md())\r\n",
      "  File \"/Users/uli/.pyenv/versions/3.7.9/envs/iss384/lib/python3.7/site-packages/fastcore/script.py\", line 105, in _f\r\n",
      "    tfunc(**merge(args, args_from_prog(func, xtra)))\r\n",
      "  File \"/Users/uli/.pyenv/versions/3.7.9/envs/iss384/lib/python3.7/site-packages/nbdev/export2html.py\", line 676, in nbdev_nb2md\r\n",
      "    convert_md(fname, dest, jekyll=jekyll, img_path=img_path)\r\n",
      "  File \"/Users/uli/.pyenv/versions/3.7.9/envs/iss384/lib/python3.7/site-packages/nbdev/export2html.py\", line 585, in convert_md\r\n",
      "    with open(Path(dest_path)/img_path/n, 'wb') as f: f.write(o)\r\n",
      "FileNotFoundError: [Errno 2] No such file or directory: 'mdFiles/30_HelloPicTwo_files/output_3_0.png'\r\n"
     ]
    }
   ],
   "source": [
    "!nbdev_nb2md --dest mdFiles 30_HelloPicTwo.ipynb"
   ]
  },
  {
   "cell_type": "code",
   "execution_count": null,
   "metadata": {},
   "outputs": [
    {
     "name": "stdout",
     "output_type": "stream",
     "text": [
      "total 272\r\n",
      "-rw-r--r--  1 uli  staff    537 30 Jan 23:00 30_HelloPicTwo.md\r\n",
      "-rw-r--r--  1 uli  staff  29302 30 Jan 23:00 att_00000.jpeg\r\n",
      "-rw-r--r--  1 uli  staff  99107 30 Jan 23:00 att_00000.png\r\n"
     ]
    }
   ],
   "source": [
    "!ls -l mdFiles"
   ]
  },
  {
   "cell_type": "markdown",
   "metadata": {},
   "source": [
    "### 4. Usage of cmd line parameter --dest and --img_path produces an Error"
   ]
  },
  {
   "cell_type": "code",
   "execution_count": null,
   "metadata": {},
   "outputs": [
    {
     "name": "stdout",
     "output_type": "stream",
     "text": [
      "usage: nbdev_nb2md [-h] [--dest DEST] [--img_path IMG_PATH] [--jekyll JEKYLL]\r\n",
      "                   fname\r\n",
      "\r\n",
      "Convert the notebook in `fname` to a markdown file\r\n",
      "\r\n",
      "positional arguments:\r\n",
      "  fname                A notebook file name to convert\r\n",
      "\r\n",
      "optional arguments:\r\n",
      "  -h, --help           show this help message and exit\r\n",
      "  --dest DEST          The destination folder (default: .)\r\n",
      "  --img_path IMG_PATH  Folder to export images to (default: )\r\n",
      "  --jekyll JEKYLL      To use jekyll metadata for your markdown file or not\r\n",
      "                       (default: False)\r\n"
     ]
    }
   ],
   "source": [
    "!nbdev_nb2md -h"
   ]
  },
  {
   "cell_type": "code",
   "execution_count": null,
   "metadata": {},
   "outputs": [
    {
     "name": "stdout",
     "output_type": "stream",
     "text": [
      "usage: nbdev_nb2md [-h] [--dest DEST] [--use_img USE_IMG] [--replace REPLACE]\r\n",
      "                   path_nb\r\n",
      "nbdev_nb2md: error: unrecognized arguments: --img_path 30_HelloPicTwo.ipynb\r\n"
     ]
    }
   ],
   "source": [
    "!nbdev_nb2md --dest mdFiles --img_path imgs 30_HelloPicTwo.ipynb"
   ]
  },
  {
   "cell_type": "markdown",
   "metadata": {},
   "source": [
    "**This error message contradics the help message!** \\\n",
    "Where do the arguments `[--use_img USE_IMG]` and `[--replace REPLACE]` come from?"
   ]
  },
  {
   "cell_type": "markdown",
   "metadata": {},
   "source": [
    "### 5. Some other things happen when using cmd line parameters\n",
    "Two more errors when using command line parameters and one unexpected behaviour which is not an error.\n",
    "\n",
    "Same as above, if only argument `--img_path` is used:"
   ]
  },
  {
   "cell_type": "code",
   "execution_count": null,
   "metadata": {},
   "outputs": [
    {
     "name": "stdout",
     "output_type": "stream",
     "text": [
      "usage: nbdev_nb2md [-h] [--dest DEST] [--use_img USE_IMG] [--replace REPLACE]\r\n",
      "                   path_nb\r\n",
      "nbdev_nb2md: error: unrecognized arguments: --img_path 30_HelloPicTwo.ipynb\r\n"
     ]
    }
   ],
   "source": [
    "!nbdev_nb2md --img_path imgs 30_HelloPicTwo.ipynb"
   ]
  },
  {
   "cell_type": "markdown",
   "metadata": {},
   "source": [
    "Same as above, if argument `--jekyll` is used:"
   ]
  },
  {
   "cell_type": "code",
   "execution_count": null,
   "metadata": {},
   "outputs": [
    {
     "name": "stdout",
     "output_type": "stream",
     "text": [
      "usage: nbdev_nb2md [-h] [--dest DEST] [--use_img USE_IMG] [--replace REPLACE]\r\n",
      "                   path_nb\r\n",
      "nbdev_nb2md: error: unrecognized arguments: --jekyll 30_HelloPicTwo.ipynb\r\n"
     ]
    }
   ],
   "source": [
    "!nbdev_nb2md --dest mdFiles --jekyll True 30_HelloPicTwo.ipynb"
   ]
  },
  {
   "cell_type": "markdown",
   "metadata": {},
   "source": [
    "Now try to hand over a value to `--jekyll` that is not allowed:"
   ]
  },
  {
   "cell_type": "code",
   "execution_count": null,
   "metadata": {},
   "outputs": [
    {
     "name": "stdout",
     "output_type": "stream",
     "text": [
      "usage: nbdev_nb2md [-h] [--dest DEST] [--img_path IMG_PATH] [--jekyll JEKYLL]\r\n",
      "                   fname\r\n",
      "nbdev_nb2md: error: argument --jekyll: invalid bool_arg value: '42'\r\n"
     ]
    }
   ],
   "source": [
    "!nbdev_nb2md --dest mdFiles --jekyll 42 30_HelloPicTwo.ipynb"
   ]
  },
  {
   "cell_type": "markdown",
   "metadata": {},
   "source": [
    "That's a little bit strange, isn't it? This usage message tells us the correct argument list."
   ]
  }
 ],
 "metadata": {
  "kernelspec": {
   "display_name": "Python 3",
   "language": "python",
   "name": "python3"
  }
 },
 "nbformat": 4,
 "nbformat_minor": 2
}
